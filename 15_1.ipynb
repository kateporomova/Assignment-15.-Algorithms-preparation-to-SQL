{
 "cells": [
  {
   "cell_type": "code",
   "execution_count": 11,
   "id": "89da6e3c-754e-4309-b4c9-c727d2c1999e",
   "metadata": {},
   "outputs": [
    {
     "name": "stdout",
     "output_type": "stream",
     "text": [
      "Optimum length [2, 6]\n"
     ]
    }
   ],
   "source": [
    "def cut(n, prices):\n",
    "    dp = [0] * (n + 1)\n",
    "    cuts = [0] * (n + 1)\n",
    "\n",
    "    for i in range(1, n + 1):\n",
    "        max_value = float('-inf')\n",
    "        for j in range(1, i + 1):\n",
    "            if j <= len(prices): \n",
    "                if max_value < prices[j - 1] + dp[i - j]:\n",
    "                    max_value = prices[j - 1] + dp[i - j]\n",
    "                    cuts[i] = j  \n",
    "        dp[i] = max_value\n",
    "    rec_lengths = []\n",
    "    length = n\n",
    "    while length > 0:\n",
    "        rec_lengths.append(cuts[length])\n",
    "        length -= cuts[length]\n",
    "\n",
    "    return rec_lengths\n",
    "\n",
    "n = 8\n",
    "prices = [1, 5, 8, 9, 10, 17, 17, 20]  \n",
    "rec_lengths = cut(n, prices)\n",
    "print(\"Optimum length\", rec_lengths)"
   ]
  },
  {
   "cell_type": "code",
   "execution_count": null,
   "id": "f4faa251-7385-4d45-9e82-8aa5bce49efb",
   "metadata": {},
   "outputs": [],
   "source": []
  }
 ],
 "metadata": {
  "kernelspec": {
   "display_name": "Python 3 (ipykernel)",
   "language": "python",
   "name": "python3"
  },
  "language_info": {
   "codemirror_mode": {
    "name": "ipython",
    "version": 3
   },
   "file_extension": ".py",
   "mimetype": "text/x-python",
   "name": "python",
   "nbconvert_exporter": "python",
   "pygments_lexer": "ipython3",
   "version": "3.11.7"
  }
 },
 "nbformat": 4,
 "nbformat_minor": 5
}
